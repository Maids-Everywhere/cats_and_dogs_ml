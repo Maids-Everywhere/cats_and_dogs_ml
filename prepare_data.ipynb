{
 "cells": [
  {
   "cell_type": "code",
   "outputs": [],
   "source": [
    "import cv2\n",
    "import numpy as np\n",
    "import os\n",
    "import random\n",
    "import pickle\n",
    "\n",
    "DIRECTORY = \"./dogsandcats\"\n",
    "CATEGORIES = [\"cats\", \"dogs\"]"
   ],
   "metadata": {
    "collapsed": false,
    "ExecuteTime": {
     "end_time": "2024-01-30T17:12:51.194217Z",
     "start_time": "2024-01-30T17:12:51.191291Z"
    }
   },
   "id": "fd72a94bcd5c6788",
   "execution_count": 5
  },
  {
   "cell_type": "code",
   "outputs": [
    {
     "data": {
      "text/plain": "24000"
     },
     "execution_count": 6,
     "metadata": {},
     "output_type": "execute_result"
    }
   ],
   "source": [
    "IMAGE_SIZE = 100\n",
    "data = []\n",
    "\n",
    "for category in CATEGORIES:\n",
    "    image_folder = os.path.join(DIRECTORY, category)\n",
    "    label = CATEGORIES.index(category)\n",
    "    for image_file in os.listdir(image_folder):\n",
    "        image = cv2.imread(str(os.path.join(image_folder, image_file)))\n",
    "        image = cv2.resize(image, (IMAGE_SIZE, IMAGE_SIZE))\n",
    "        data.append([image, label])\n",
    "\n",
    "len(data)"
   ],
   "metadata": {
    "collapsed": false,
    "ExecuteTime": {
     "end_time": "2024-01-30T17:13:30.172791Z",
     "start_time": "2024-01-30T17:12:51.383248Z"
    }
   },
   "id": "425d3b498e8b5bbe",
   "execution_count": 6
  },
  {
   "cell_type": "code",
   "outputs": [
    {
     "data": {
      "text/plain": "[array([[[ 61,  45,  39],\n         [ 60,  44,  38],\n         [ 61,  45,  39],\n         ...,\n         [ 38,  34,  70],\n         [ 37,  33,  69],\n         [ 41,  37,  73]],\n \n        [[ 71,  55,  49],\n         [ 72,  56,  50],\n         [ 70,  54,  48],\n         ...,\n         [ 36,  32,  68],\n         [ 37,  33,  69],\n         [ 35,  31,  67]],\n \n        [[ 62,  46,  40],\n         [ 60,  44,  38],\n         [ 63,  47,  41],\n         ...,\n         [ 31,  27,  63],\n         [ 33,  29,  65],\n         [ 29,  24,  61]],\n \n        ...,\n \n        [[134, 164, 208],\n         [125, 156, 199],\n         [120, 149, 193],\n         ...,\n         [119, 147, 189],\n         [121, 152, 191],\n         [122, 153, 192]],\n \n        [[129, 164, 204],\n         [125, 161, 201],\n         [123, 157, 197],\n         ...,\n         [115, 142, 183],\n         [119, 149, 190],\n         [125, 155, 196]],\n \n        [[129, 164, 204],\n         [133, 168, 208],\n         [131, 166, 206],\n         ...,\n         [126, 151, 193],\n         [110, 138, 179],\n         [121, 149, 190]]], dtype=uint8),\n 1]"
     },
     "execution_count": 7,
     "metadata": {},
     "output_type": "execute_result"
    }
   ],
   "source": [
    "random.shuffle(data)\n",
    "data[0]"
   ],
   "metadata": {
    "collapsed": false,
    "ExecuteTime": {
     "end_time": "2024-01-30T17:13:30.206185Z",
     "start_time": "2024-01-30T17:13:30.186643Z"
    }
   },
   "id": "6bccc12a83d55a67",
   "execution_count": 7
  },
  {
   "cell_type": "code",
   "outputs": [],
   "source": [
    "image_array = []\n",
    "label_array = []\n",
    "\n",
    "for image, label in data:\n",
    "    image_array.append(image)\n",
    "    label_array.append(label)"
   ],
   "metadata": {
    "collapsed": false,
    "ExecuteTime": {
     "end_time": "2024-01-30T17:13:30.206694Z",
     "start_time": "2024-01-30T17:13:30.202825Z"
    }
   },
   "id": "af7e7ac907302bfe",
   "execution_count": 8
  },
  {
   "cell_type": "code",
   "outputs": [],
   "source": [
    "X = np.array(image_array)\n",
    "Y = np.array(label_array)"
   ],
   "metadata": {
    "collapsed": false,
    "ExecuteTime": {
     "end_time": "2024-01-30T17:13:31.025080Z",
     "start_time": "2024-01-30T17:13:30.211181Z"
    }
   },
   "id": "efc099ab3cfa4188",
   "execution_count": 9
  },
  {
   "cell_type": "code",
   "outputs": [],
   "source": [
    "pickle.dump(X, open(\"images.pickle\", \"wb\"))\n",
    "pickle.dump(Y, open(\"labels.pickle\", \"wb\"))"
   ],
   "metadata": {
    "collapsed": false,
    "ExecuteTime": {
     "end_time": "2024-01-30T17:13:32.601786Z",
     "start_time": "2024-01-30T17:13:31.028577Z"
    }
   },
   "id": "78d12caace6b61b3",
   "execution_count": 10
  }
 ],
 "metadata": {
  "kernelspec": {
   "display_name": "Python 3",
   "language": "python",
   "name": "python3"
  },
  "language_info": {
   "codemirror_mode": {
    "name": "ipython",
    "version": 2
   },
   "file_extension": ".py",
   "mimetype": "text/x-python",
   "name": "python",
   "nbconvert_exporter": "python",
   "pygments_lexer": "ipython2",
   "version": "2.7.6"
  }
 },
 "nbformat": 4,
 "nbformat_minor": 5
}
