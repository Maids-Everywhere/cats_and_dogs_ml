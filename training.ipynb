{
 "cells": [
  {
   "cell_type": "code",
   "outputs": [],
   "source": [
    "import pickle\n",
    "\n",
    "X = pickle.load(open(\"images.pickle\", \"rb\"))\n",
    "Y = pickle.load(open(\"labels.pickle\", \"rb\"))\n",
    "\n",
    "X = X/255"
   ],
   "metadata": {
    "collapsed": true,
    "ExecuteTime": {
     "end_time": "2024-01-29T00:59:35.868148Z",
     "start_time": "2024-01-29T00:59:26.743063Z"
    }
   },
   "id": "initial_id",
   "execution_count": 91
  },
  {
   "cell_type": "code",
   "outputs": [
    {
     "data": {
      "text/plain": "(23000, 100, 100, 3)"
     },
     "execution_count": 92,
     "metadata": {},
     "output_type": "execute_result"
    }
   ],
   "source": [
    "X.shape"
   ],
   "metadata": {
    "collapsed": false,
    "ExecuteTime": {
     "end_time": "2024-01-29T00:59:35.887492Z",
     "start_time": "2024-01-29T00:59:35.879394Z"
    }
   },
   "id": "c1f76b62b264435e",
   "execution_count": 92
  },
  {
   "cell_type": "code",
   "outputs": [],
   "source": [
    "from keras.models import Sequential\n",
    "from tensorflow.keras.layers import Dense, Dropout, Conv2D, MaxPooling2D, BatchNormalization, Flatten"
   ],
   "metadata": {
    "collapsed": false,
    "ExecuteTime": {
     "end_time": "2024-01-29T00:59:36.005279Z",
     "start_time": "2024-01-29T00:59:35.889160Z"
    }
   },
   "id": "85e22f1c6b1929f",
   "execution_count": 93
  },
  {
   "cell_type": "code",
   "outputs": [],
   "source": [
    "model = Sequential()\n",
    "\n",
    "model.add(Conv2D(32, (3, 3), activation=\"relu\", input_shape=(100, 100, 3)))\n",
    "model.add(BatchNormalization())\n",
    "model.add(MaxPooling2D(pool_size=(2, 2)))\n",
    "model.add(Dropout(0.25))\n",
    "\n",
    "model.add(Conv2D(64, (3, 3), activation=\"relu\"))\n",
    "model.add(BatchNormalization())\n",
    "model.add(MaxPooling2D(pool_size=(2, 2)))\n",
    "model.add(Dropout(0.25))\n",
    "\n",
    "model.add(Conv2D(128, (3, 3), activation=\"relu\"))\n",
    "model.add(BatchNormalization())\n",
    "model.add(MaxPooling2D(pool_size=(2, 2)))\n",
    "model.add(Dropout(0.25))\n",
    "\n",
    "model.add(Flatten())\n",
    "model.add(Dense(512, activation=\"relu\", input_shape=X.shape[1:]))\n",
    "model.add(BatchNormalization())\n",
    "model.add(Dropout(0.5))\n",
    "model.add(Dense(2, activation=\"softmax\", input_shape=X.shape[1:]))\n",
    "model.compile(loss=\"sparse_categorical_crossentropy\", optimizer=\"rmsprop\", metrics=[\"accuracy\"])"
   ],
   "metadata": {
    "collapsed": false,
    "ExecuteTime": {
     "end_time": "2024-01-29T00:59:36.284908Z",
     "start_time": "2024-01-29T00:59:35.927611Z"
    }
   },
   "id": "39da2c96c6f6da1f",
   "execution_count": 94
  },
  {
   "cell_type": "code",
   "outputs": [
    {
     "name": "stdout",
     "output_type": "stream",
     "text": [
      "Epoch 1/5\n",
      "647/647 [==============================] - 307s 475ms/step - loss: 0.4849 - accuracy: 0.7750 - val_loss: 0.7817 - val_accuracy: 0.7148\n",
      "Epoch 2/5\n",
      "647/647 [==============================] - 271s 419ms/step - loss: 0.4219 - accuracy: 0.8086 - val_loss: 0.4011 - val_accuracy: 0.8139\n",
      "Epoch 3/5\n",
      "647/647 [==============================] - 273s 422ms/step - loss: 0.3673 - accuracy: 0.8394 - val_loss: 0.7011 - val_accuracy: 0.6661\n",
      "Epoch 4/5\n",
      "647/647 [==============================] - 278s 429ms/step - loss: 0.3273 - accuracy: 0.8565 - val_loss: 1.2237 - val_accuracy: 0.6313\n",
      "Epoch 5/5\n",
      "647/647 [==============================] - 276s 427ms/step - loss: 0.3004 - accuracy: 0.8750 - val_loss: 0.3549 - val_accuracy: 0.8430\n"
     ]
    },
    {
     "data": {
      "text/plain": "<keras.src.callbacks.History at 0x7fbf419b3c40>"
     },
     "execution_count": 97,
     "metadata": {},
     "output_type": "execute_result"
    }
   ],
   "source": [
    "model.fit(X, Y, validation_split=0.1, epochs=5, batch_size=32)"
   ],
   "metadata": {
    "collapsed": false,
    "ExecuteTime": {
     "end_time": "2024-01-29T01:50:33.086567Z",
     "start_time": "2024-01-29T01:26:16.121273Z"
    }
   },
   "id": "524f34263817cb7f",
   "execution_count": 97
  },
  {
   "cell_type": "code",
   "outputs": [
    {
     "name": "stdout",
     "output_type": "stream",
     "text": [
      "1/1 [==============================] - 0s 27ms/step\n",
      "Cat: 68.6%\n",
      "Dog: 31.4%\n",
      "It's a cat!\n"
     ]
    }
   ],
   "source": [
    "import cv2\n",
    "\n",
    "IMAGE_FILE = \"\"  # your path to image here \n",
    "IMAGE = cv2.imread(IMAGE_FILE)\n",
    "IMAGE = cv2.resize(IMAGE, (100, 100))\n",
    "IMAGE = IMAGE/255\n",
    "IMAGE = IMAGE.reshape(1, 100, 100, 3)\n",
    "prediction = model.predict(IMAGE)\n",
    "\n",
    "x = str(round(prediction[0,0] * 100, 2))\n",
    "y = str(round(prediction[0,1] * 100, 2))\n",
    "print(f\"Cat: {x}%\\nDog: {y}%\")\n",
    "print(f\"It's a {'cat' if x > y else 'dog'}!\")"
   ],
   "metadata": {
    "collapsed": false,
    "ExecuteTime": {
     "end_time": "2024-01-29T16:13:14.171300Z",
     "start_time": "2024-01-29T16:13:14.078865Z"
    }
   },
   "id": "46c4894c5ec24aeb",
   "execution_count": 100
  }
 ],
 "metadata": {
  "kernelspec": {
   "display_name": "Python 3",
   "language": "python",
   "name": "python3"
  },
  "language_info": {
   "codemirror_mode": {
    "name": "ipython",
    "version": 2
   },
   "file_extension": ".py",
   "mimetype": "text/x-python",
   "name": "python",
   "nbconvert_exporter": "python",
   "pygments_lexer": "ipython2",
   "version": "2.7.6"
  }
 },
 "nbformat": 4,
 "nbformat_minor": 5
}
